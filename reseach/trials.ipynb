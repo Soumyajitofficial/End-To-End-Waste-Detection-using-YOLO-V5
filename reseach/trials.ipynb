{
 "cells": [
  {
   "cell_type": "code",
   "execution_count": null,
   "metadata": {},
   "outputs": [],
   "source": [
    "import os\n",
    "import cv2\n",
    "import time\n",
    "import uuid\n",
    "\n",
    "IMAGE_PATH = \"CollectedImages\"\n",
    "\n",
    "labels = ['Hello', 'Yes', 'No', 'Thanks', 'Please']\n",
    "\n",
    "number_of_images = 20\n",
    "\n",
    "for label in labels:\n",
    "    img_path = os.path.join(IMAGE_PATH, label)\n",
    "    os.makedirs(img_path)\n",
    "\n",
    "    #open camera \n",
    "    cap = cv2.VideoCapture(0)\n",
    "    print(f\"Collecting images for {label}\")\n",
    "    time.sleep(3)\n",
    "\n",
    "    for imgnum in range(number_of_images):\n",
    "        ret,frame = cap.read()\n",
    "        imagename=os.path.join(IMAGE_PATH,label,label+'.'+'{}.jpg'.format(str(uuid.uuid1())))\n",
    "        cv2.imwrite(imagename, frame)\n",
    "        cv2.imshow('frame', frame)\n",
    "        time.sleep(2)\n",
    "\n",
    "        if cv2.waitKey(1) & 0xFF==ord('q'):\n",
    "            break\n",
    "    \n",
    "    cap.release()"
   ]
  },
  {
   "cell_type": "code",
   "execution_count": null,
   "metadata": {},
   "outputs": [],
   "source": []
  },
  {
   "cell_type": "code",
   "execution_count": null,
   "metadata": {},
   "outputs": [],
   "source": []
  },
  {
   "cell_type": "code",
   "execution_count": null,
   "metadata": {},
   "outputs": [],
   "source": []
  }
 ],
 "metadata": {
  "kernelspec": {
   "display_name": "waste",
   "language": "python",
   "name": "python3"
  },
  "language_info": {
   "codemirror_mode": {
    "name": "ipython",
    "version": 3
   },
   "file_extension": ".py",
   "mimetype": "text/x-python",
   "name": "python",
   "nbconvert_exporter": "python",
   "pygments_lexer": "ipython3",
   "version": "3.7.16"
  }
 },
 "nbformat": 4,
 "nbformat_minor": 2
}
